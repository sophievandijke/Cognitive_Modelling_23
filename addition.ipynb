{
 "cells": [
  {
   "cell_type": "code",
   "execution_count": 44,
   "id": "20602f14-7d2e-458a-9629-c7512d87238e",
   "metadata": {
    "tags": []
   },
   "outputs": [],
   "source": [
    "from model import Model\n",
    "from dmchunk import Chunk"
   ]
  },
  {
   "cell_type": "code",
   "execution_count": 46,
   "id": "e317ff02-30ce-4cd6-ab51-b3a91cdbcf8b",
   "metadata": {
    "tags": []
   },
   "outputs": [],
   "source": [
    "m = Model ()\n",
    "\n",
    "numbers = [\"zero\", \"one\", \"two\", \"three\", \"four\", \"five\", \"six\", \"seven\", \"eight\", \"nine\"]\n",
    "for i in range(0, len(numbers) -1):\n",
    "    fact1 = Chunk(name = \"cf-\" + numbers[i], slots = {\"isa\": \"count-fact\", \"num1\": numbers[i], \"num2\": numbers[i+1]})\n",
    "    m.add_encounter(fact1)"
   ]
  },
  {
   "cell_type": "code",
   "execution_count": 47,
   "id": "d5da6d96-f7f4-4ab9-8e6c-afb330134822",
   "metadata": {
    "tags": []
   },
   "outputs": [],
   "source": [
    "def add(num1, num2):\n",
    "    g = Chunk(name = \"goal\", slots = {\"isa\" : \"addition-goal\", \"num1\" : num1, \"num2\" : num2})\n",
    "    m.goal = g\n",
    "    done = False\n",
    "    while not done:\n",
    "        m.time += 0.5\n",
    "        #if we do no thave anything in the sum slot, we need to start by initializing them\n",
    "        if not \"sum\" in g.slots:\n",
    "            g.slots[\"sum\"] = g.slots[\"num1\"]\n",
    "            g.slots[\"count\"] = \"zero\"\n",
    "            \n",
    "        #if the current count is not yet equal to the second numbers (num2), increment both count and sum\n",
    "        elif g.slots[\"count\"] != g.slots[\"num2\"]:\n",
    "            #first increment the count\n",
    "            request = Chunk(name = \"request\", slots = {\"isa\":\"count-fact\",\"num1\":g.slots[\"count\"]})\n",
    "            chunk, latency = m.retrieve(request)\n",
    "            m.add_encounter(chunk)\n",
    "            m.time += latency\n",
    "            g.slots[\"count\"] = chunk.slots[\"num2\"]\n",
    "            \n",
    "            #now increment the sum. this is a separate production rule, so that takes 50 ms\n",
    "            request = Chunk(name = \"request\", slots = {\"isa\":\"count-fact\", \"num1\":g.slots[\"sum\"]})\n",
    "            chunk, latency = m.retrieve(request)\n",
    "            m.add_encounter(chunk)\n",
    "            m.time+= latency\n",
    "            g.slots[\"sum\"] = chunk.slots[\"num2\"]\n",
    "            print(m.time)\n",
    "            print(g.slots[\"sum\"])\n",
    "            m.time += 0.3\n",
    "            \n",
    "        #if the current count is equal to the second number, we can report the answer in sum\n",
    "        else:\n",
    "            m.time += 0.3\n",
    "            print(m.time)\n",
    "            print(g.slots[\"sum\"])\n",
    "            done = True"
   ]
  },
  {
   "cell_type": "code",
   "execution_count": 50,
   "id": "38579e18-da81-42cd-8317-9aeb9b931034",
   "metadata": {
    "tags": []
   },
   "outputs": [
    {
     "name": "stdout",
     "output_type": "stream",
     "text": [
      "15.299834874009573\n",
      "three\n",
      "16.220703550807915\n",
      "four\n",
      "17.078741337394924\n",
      "five\n",
      "17.946212556368792\n",
      "six\n",
      "18.88612390624031\n",
      "seven\n",
      "19.75918618737446\n",
      "eight\n",
      "20.859186187374462\n",
      "eight\n"
     ]
    }
   ],
   "source": [
    "add(\"two\", \"six\")"
   ]
  },
  {
   "cell_type": "code",
   "execution_count": null,
   "id": "87277a8c-c420-4ffc-a51d-cad2b0b8c94f",
   "metadata": {},
   "outputs": [],
   "source": []
  }
 ],
 "metadata": {
  "kernelspec": {
   "display_name": "Python 3 (ipykernel)",
   "language": "python",
   "name": "python3"
  },
  "language_info": {
   "codemirror_mode": {
    "name": "ipython",
    "version": 3
   },
   "file_extension": ".py",
   "mimetype": "text/x-python",
   "name": "python",
   "nbconvert_exporter": "python",
   "pygments_lexer": "ipython3",
   "version": "3.11.5"
  }
 },
 "nbformat": 4,
 "nbformat_minor": 5
}
