{
 "cells": [
  {
   "cell_type": "markdown",
   "id": "052a6bd7",
   "metadata": {},
   "source": [
    "# Putting memory into context (effects)\n",
    "\n",
    "In this notebook you'll find some R-code that can be used to analyze the data that we have collected. I will separately go over different phenomena that we can find in our data. You can see each of these as a different 'problem' that your model needs to solve.\n",
    "\n",
    "My advice is to initially choose just one of these phenomena to focus on, and try to construct a model that fits with this effect. Then, you can start to build from there and focus on different aspects of the data to focus on. \n",
    "\n",
    "A note of advice: if you save your model output to a CSV, that is structured in exactly the same way as the 'real' data, you can simply run this code for your analysis and compare the outcomes. That way, you won't have to recode these analysis in python. "
   ]
  },
  {
   "cell_type": "code",
   "execution_count": 23,
   "id": "e1a7ac6e",
   "metadata": {
    "tags": []
   },
   "outputs": [],
   "source": [
    "## Here, I'm loading the packages that are used in the analysis\n",
    "## if you don't have them yet, you can install them with install.packages(\"name\")\n",
    "\n",
    "library(plyr)      # for data wrangling, should be loaded before newer dplyr\n",
    "library(dplyr)     # for data wrangling\n",
    "library(ggplot2)   # for plotting\n",
    "library(magrittr)  # for the pipe operatior %>%\n",
    "library(knitr)     # for pretty tables in the notebook env.\n",
    "\n",
    "library(lme4)      # for Linear mixed effects regression (lmer / lmm)\n",
    "library(lmerTest)  # get p-values from lmers\n",
    "\n",
    "# The function 'plottab()' takes data from different subjects, and computes averages across conditions.\n",
    "# It also computes within-subject Confidence intervals, which give you \n",
    "# an idea of the variability of the data patterns across participants\n",
    "# This helpers.R file defines that function, so we load it here\n",
    "source('helpers.R')\n",
    "\n",
    "### function to change plot size in jupytR\n",
    "fig <- function(width, heigth){\n",
    "    options(repr.plot.width = width, repr.plot.height = heigth)\n",
    "}\n",
    "\n",
    "## finally: load the data:\n",
    "all_dat <- read.csv('real_data.csv')\n",
    "## or, \n",
    "# all_dat <- read.csv('model_data.csv')\n",
    "\n",
    "# then, get rid;  of the practice & outlier trials \n",
    "# (we don't need them anymore; & the model probably doesn't have any outliers)\n",
    "all_dat %<>% filter(practice=='no', outlier==FALSE)\n"
   ]
  },
  {
   "cell_type": "code",
   "execution_count": 24,
   "id": "70c2338d",
   "metadata": {
    "scrolled": true,
    "tags": []
   },
   "outputs": [
    {
     "data": {
      "text/html": [
       "<table class=\"dataframe\">\n",
       "<caption>A data.frame: 6 × 22</caption>\n",
       "<thead>\n",
       "\t<tr><th></th><th scope=col>X</th><th scope=col>student_nr</th><th scope=col>Block_nr</th><th scope=col>practice</th><th scope=col>quadrant</th><th scope=col>stimulus</th><th scope=col>prior</th><th scope=col>ts</th><th scope=col>repr_error</th><th scope=col>sub_id</th><th scope=col>⋯</th><th scope=col>outlier</th><th scope=col>ts_1</th><th scope=col>ts_2</th><th scope=col>ts_3</th><th scope=col>ts_4</th><th scope=col>ts_5</th><th scope=col>ts_6</th><th scope=col>ts_7</th><th scope=col>qrep</th><th scope=col>ts_stim</th></tr>\n",
       "\t<tr><th></th><th scope=col>&lt;int&gt;</th><th scope=col>&lt;chr&gt;</th><th scope=col>&lt;int&gt;</th><th scope=col>&lt;chr&gt;</th><th scope=col>&lt;chr&gt;</th><th scope=col>&lt;chr&gt;</th><th scope=col>&lt;chr&gt;</th><th scope=col>&lt;dbl&gt;</th><th scope=col>&lt;dbl&gt;</th><th scope=col>&lt;chr&gt;</th><th scope=col>⋯</th><th scope=col>&lt;lgl&gt;</th><th scope=col>&lt;dbl&gt;</th><th scope=col>&lt;dbl&gt;</th><th scope=col>&lt;dbl&gt;</th><th scope=col>&lt;dbl&gt;</th><th scope=col>&lt;dbl&gt;</th><th scope=col>&lt;dbl&gt;</th><th scope=col>&lt;dbl&gt;</th><th scope=col>&lt;chr&gt;</th><th scope=col>&lt;dbl&gt;</th></tr>\n",
       "</thead>\n",
       "<tbody>\n",
       "\t<tr><th scope=row>1</th><td>17</td><td>s3162443</td><td>1</td><td>no</td><td>TR</td><td>Object_0262.jpg</td><td>p3</td><td>0.975</td><td> 0.070</td><td>s341281</td><td>⋯</td><td>FALSE</td><td>0.975</td><td>0.675</td><td>0.825</td><td>0.600</td><td>0.750</td><td>0.750</td><td>0.825</td><td>rep</td><td>NA</td></tr>\n",
       "\t<tr><th scope=row>2</th><td>18</td><td>s3162443</td><td>1</td><td>no</td><td>TR</td><td>Object_0239.jpg</td><td>p3</td><td>0.900</td><td>-0.020</td><td>s341281</td><td>⋯</td><td>FALSE</td><td>0.975</td><td>0.975</td><td>0.675</td><td>0.825</td><td>0.600</td><td>0.750</td><td>0.750</td><td>rep</td><td>NA</td></tr>\n",
       "\t<tr><th scope=row>3</th><td>19</td><td>s3162443</td><td>1</td><td>no</td><td>BR</td><td>Object_0200.jpg</td><td>p1</td><td>0.450</td><td>-0.046</td><td>s341281</td><td>⋯</td><td>FALSE</td><td>0.900</td><td>0.975</td><td>0.975</td><td>0.675</td><td>0.825</td><td>0.600</td><td>0.750</td><td>swi</td><td>NA</td></tr>\n",
       "\t<tr><th scope=row>4</th><td>20</td><td>s3162443</td><td>1</td><td>no</td><td>TR</td><td>Object_0257.jpg</td><td>p3</td><td>0.900</td><td>-0.096</td><td>s341281</td><td>⋯</td><td>FALSE</td><td>0.450</td><td>0.900</td><td>0.975</td><td>0.975</td><td>0.675</td><td>0.825</td><td>0.600</td><td>swi</td><td>NA</td></tr>\n",
       "\t<tr><th scope=row>5</th><td>21</td><td>s3162443</td><td>1</td><td>no</td><td>BR</td><td>Object_0033.jpg</td><td>p1</td><td>0.750</td><td>-0.013</td><td>s341281</td><td>⋯</td><td>FALSE</td><td>0.900</td><td>0.450</td><td>0.900</td><td>0.975</td><td>0.975</td><td>0.675</td><td>0.825</td><td>swi</td><td>NA</td></tr>\n",
       "\t<tr><th scope=row>6</th><td>22</td><td>s3162443</td><td>1</td><td>no</td><td>TR</td><td>Object_0375.jpg</td><td>p3</td><td>1.125</td><td>-0.133</td><td>s341281</td><td>⋯</td><td>FALSE</td><td>0.750</td><td>0.900</td><td>0.450</td><td>0.900</td><td>0.975</td><td>0.975</td><td>0.675</td><td>swi</td><td>NA</td></tr>\n",
       "</tbody>\n",
       "</table>\n"
      ],
      "text/latex": [
       "A data.frame: 6 × 22\n",
       "\\begin{tabular}{r|lllllllllllllllllllll}\n",
       "  & X & student\\_nr & Block\\_nr & practice & quadrant & stimulus & prior & ts & repr\\_error & sub\\_id & ⋯ & outlier & ts\\_1 & ts\\_2 & ts\\_3 & ts\\_4 & ts\\_5 & ts\\_6 & ts\\_7 & qrep & ts\\_stim\\\\\n",
       "  & <int> & <chr> & <int> & <chr> & <chr> & <chr> & <chr> & <dbl> & <dbl> & <chr> & ⋯ & <lgl> & <dbl> & <dbl> & <dbl> & <dbl> & <dbl> & <dbl> & <dbl> & <chr> & <dbl>\\\\\n",
       "\\hline\n",
       "\t1 & 17 & s3162443 & 1 & no & TR & Object\\_0262.jpg & p3 & 0.975 &  0.070 & s341281 & ⋯ & FALSE & 0.975 & 0.675 & 0.825 & 0.600 & 0.750 & 0.750 & 0.825 & rep & NA\\\\\n",
       "\t2 & 18 & s3162443 & 1 & no & TR & Object\\_0239.jpg & p3 & 0.900 & -0.020 & s341281 & ⋯ & FALSE & 0.975 & 0.975 & 0.675 & 0.825 & 0.600 & 0.750 & 0.750 & rep & NA\\\\\n",
       "\t3 & 19 & s3162443 & 1 & no & BR & Object\\_0200.jpg & p1 & 0.450 & -0.046 & s341281 & ⋯ & FALSE & 0.900 & 0.975 & 0.975 & 0.675 & 0.825 & 0.600 & 0.750 & swi & NA\\\\\n",
       "\t4 & 20 & s3162443 & 1 & no & TR & Object\\_0257.jpg & p3 & 0.900 & -0.096 & s341281 & ⋯ & FALSE & 0.450 & 0.900 & 0.975 & 0.975 & 0.675 & 0.825 & 0.600 & swi & NA\\\\\n",
       "\t5 & 21 & s3162443 & 1 & no & BR & Object\\_0033.jpg & p1 & 0.750 & -0.013 & s341281 & ⋯ & FALSE & 0.900 & 0.450 & 0.900 & 0.975 & 0.975 & 0.675 & 0.825 & swi & NA\\\\\n",
       "\t6 & 22 & s3162443 & 1 & no & TR & Object\\_0375.jpg & p3 & 1.125 & -0.133 & s341281 & ⋯ & FALSE & 0.750 & 0.900 & 0.450 & 0.900 & 0.975 & 0.975 & 0.675 & swi & NA\\\\\n",
       "\\end{tabular}\n"
      ],
      "text/markdown": [
       "\n",
       "A data.frame: 6 × 22\n",
       "\n",
       "| <!--/--> | X &lt;int&gt; | student_nr &lt;chr&gt; | Block_nr &lt;int&gt; | practice &lt;chr&gt; | quadrant &lt;chr&gt; | stimulus &lt;chr&gt; | prior &lt;chr&gt; | ts &lt;dbl&gt; | repr_error &lt;dbl&gt; | sub_id &lt;chr&gt; | ⋯ ⋯ | outlier &lt;lgl&gt; | ts_1 &lt;dbl&gt; | ts_2 &lt;dbl&gt; | ts_3 &lt;dbl&gt; | ts_4 &lt;dbl&gt; | ts_5 &lt;dbl&gt; | ts_6 &lt;dbl&gt; | ts_7 &lt;dbl&gt; | qrep &lt;chr&gt; | ts_stim &lt;dbl&gt; |\n",
       "|---|---|---|---|---|---|---|---|---|---|---|---|---|---|---|---|---|---|---|---|---|---|\n",
       "| 1 | 17 | s3162443 | 1 | no | TR | Object_0262.jpg | p3 | 0.975 |  0.070 | s341281 | ⋯ | FALSE | 0.975 | 0.675 | 0.825 | 0.600 | 0.750 | 0.750 | 0.825 | rep | NA |\n",
       "| 2 | 18 | s3162443 | 1 | no | TR | Object_0239.jpg | p3 | 0.900 | -0.020 | s341281 | ⋯ | FALSE | 0.975 | 0.975 | 0.675 | 0.825 | 0.600 | 0.750 | 0.750 | rep | NA |\n",
       "| 3 | 19 | s3162443 | 1 | no | BR | Object_0200.jpg | p1 | 0.450 | -0.046 | s341281 | ⋯ | FALSE | 0.900 | 0.975 | 0.975 | 0.675 | 0.825 | 0.600 | 0.750 | swi | NA |\n",
       "| 4 | 20 | s3162443 | 1 | no | TR | Object_0257.jpg | p3 | 0.900 | -0.096 | s341281 | ⋯ | FALSE | 0.450 | 0.900 | 0.975 | 0.975 | 0.675 | 0.825 | 0.600 | swi | NA |\n",
       "| 5 | 21 | s3162443 | 1 | no | BR | Object_0033.jpg | p1 | 0.750 | -0.013 | s341281 | ⋯ | FALSE | 0.900 | 0.450 | 0.900 | 0.975 | 0.975 | 0.675 | 0.825 | swi | NA |\n",
       "| 6 | 22 | s3162443 | 1 | no | TR | Object_0375.jpg | p3 | 1.125 | -0.133 | s341281 | ⋯ | FALSE | 0.750 | 0.900 | 0.450 | 0.900 | 0.975 | 0.975 | 0.675 | swi | NA |\n",
       "\n"
      ],
      "text/plain": [
       "  X  student_nr Block_nr practice quadrant stimulus        prior ts   \n",
       "1 17 s3162443   1        no       TR       Object_0262.jpg p3    0.975\n",
       "2 18 s3162443   1        no       TR       Object_0239.jpg p3    0.900\n",
       "3 19 s3162443   1        no       BR       Object_0200.jpg p1    0.450\n",
       "4 20 s3162443   1        no       TR       Object_0257.jpg p3    0.900\n",
       "5 21 s3162443   1        no       BR       Object_0033.jpg p1    0.750\n",
       "6 22 s3162443   1        no       TR       Object_0375.jpg p3    1.125\n",
       "  repr_error sub_id  ⋯ outlier ts_1  ts_2  ts_3  ts_4  ts_5  ts_6  ts_7  qrep\n",
       "1  0.070     s341281 ⋯ FALSE   0.975 0.675 0.825 0.600 0.750 0.750 0.825 rep \n",
       "2 -0.020     s341281 ⋯ FALSE   0.975 0.975 0.675 0.825 0.600 0.750 0.750 rep \n",
       "3 -0.046     s341281 ⋯ FALSE   0.900 0.975 0.975 0.675 0.825 0.600 0.750 swi \n",
       "4 -0.096     s341281 ⋯ FALSE   0.450 0.900 0.975 0.975 0.675 0.825 0.600 swi \n",
       "5 -0.013     s341281 ⋯ FALSE   0.900 0.450 0.900 0.975 0.975 0.675 0.825 swi \n",
       "6 -0.133     s341281 ⋯ FALSE   0.750 0.900 0.450 0.900 0.975 0.975 0.675 swi \n",
       "  ts_stim\n",
       "1 NA     \n",
       "2 NA     \n",
       "3 NA     \n",
       "4 NA     \n",
       "5 NA     \n",
       "6 NA     "
      ]
     },
     "metadata": {},
     "output_type": "display_data"
    }
   ],
   "source": [
    "all_dat %>% head() # quick view of what is in the dataset"
   ]
  },
  {
   "cell_type": "code",
   "execution_count": 25,
   "id": "dc30957c",
   "metadata": {
    "tags": []
   },
   "outputs": [
    {
     "name": "stderr",
     "output_type": "stream",
     "text": [
      "\u001b[1m\u001b[22m`summarise()` has grouped output by 'sub_id', 'prior'. You can override using the `.groups` argument.\n",
      "\u001b[1m\u001b[22m`summarise()` has grouped output by 'group', 'prior'. You can override using the `.groups` argument.\n",
      "\u001b[1m\u001b[22m`summarise()` has grouped output by 'prior'. You can override using the `.groups` argument.\n"
     ]
    },
    {
     "data": {
      "text/html": [
       "<table class=\"dataframe\">\n",
       "<caption>A data.frame: 6 × 5</caption>\n",
       "<thead>\n",
       "\t<tr><th></th><th scope=col>prior</th><th scope=col>ts</th><th scope=col>P</th><th scope=col>lower</th><th scope=col>upper</th></tr>\n",
       "\t<tr><th></th><th scope=col>&lt;chr&gt;</th><th scope=col>&lt;dbl&gt;</th><th scope=col>&lt;dbl&gt;</th><th scope=col>&lt;dbl&gt;</th><th scope=col>&lt;dbl&gt;</th></tr>\n",
       "</thead>\n",
       "<tbody>\n",
       "\t<tr><th scope=row>1</th><td>p1</td><td>0.450</td><td>0.1991671</td><td>0.1882769</td><td>0.2100573</td></tr>\n",
       "\t<tr><th scope=row>2</th><td>p1</td><td>0.525</td><td>0.2076738</td><td>0.1994474</td><td>0.2159001</td></tr>\n",
       "\t<tr><th scope=row>3</th><td>p1</td><td>0.600</td><td>0.1941647</td><td>0.1839807</td><td>0.2043487</td></tr>\n",
       "\t<tr><th scope=row>4</th><td>p1</td><td>0.675</td><td>0.2013208</td><td>0.1925614</td><td>0.2100803</td></tr>\n",
       "\t<tr><th scope=row>5</th><td>p1</td><td>0.750</td><td>0.1976736</td><td>0.1887063</td><td>0.2066409</td></tr>\n",
       "\t<tr><th scope=row>6</th><td>p2</td><td>0.750</td><td>0.2016901</td><td>0.1937915</td><td>0.2095887</td></tr>\n",
       "</tbody>\n",
       "</table>\n"
      ],
      "text/latex": [
       "A data.frame: 6 × 5\n",
       "\\begin{tabular}{r|lllll}\n",
       "  & prior & ts & P & lower & upper\\\\\n",
       "  & <chr> & <dbl> & <dbl> & <dbl> & <dbl>\\\\\n",
       "\\hline\n",
       "\t1 & p1 & 0.450 & 0.1991671 & 0.1882769 & 0.2100573\\\\\n",
       "\t2 & p1 & 0.525 & 0.2076738 & 0.1994474 & 0.2159001\\\\\n",
       "\t3 & p1 & 0.600 & 0.1941647 & 0.1839807 & 0.2043487\\\\\n",
       "\t4 & p1 & 0.675 & 0.2013208 & 0.1925614 & 0.2100803\\\\\n",
       "\t5 & p1 & 0.750 & 0.1976736 & 0.1887063 & 0.2066409\\\\\n",
       "\t6 & p2 & 0.750 & 0.2016901 & 0.1937915 & 0.2095887\\\\\n",
       "\\end{tabular}\n"
      ],
      "text/markdown": [
       "\n",
       "A data.frame: 6 × 5\n",
       "\n",
       "| <!--/--> | prior &lt;chr&gt; | ts &lt;dbl&gt; | P &lt;dbl&gt; | lower &lt;dbl&gt; | upper &lt;dbl&gt; |\n",
       "|---|---|---|---|---|---|\n",
       "| 1 | p1 | 0.450 | 0.1991671 | 0.1882769 | 0.2100573 |\n",
       "| 2 | p1 | 0.525 | 0.2076738 | 0.1994474 | 0.2159001 |\n",
       "| 3 | p1 | 0.600 | 0.1941647 | 0.1839807 | 0.2043487 |\n",
       "| 4 | p1 | 0.675 | 0.2013208 | 0.1925614 | 0.2100803 |\n",
       "| 5 | p1 | 0.750 | 0.1976736 | 0.1887063 | 0.2066409 |\n",
       "| 6 | p2 | 0.750 | 0.2016901 | 0.1937915 | 0.2095887 |\n",
       "\n"
      ],
      "text/plain": [
       "  prior ts    P         lower     upper    \n",
       "1 p1    0.450 0.1991671 0.1882769 0.2100573\n",
       "2 p1    0.525 0.2076738 0.1994474 0.2159001\n",
       "3 p1    0.600 0.1941647 0.1839807 0.2043487\n",
       "4 p1    0.675 0.2013208 0.1925614 0.2100803\n",
       "5 p1    0.750 0.1976736 0.1887063 0.2066409\n",
       "6 p2    0.750 0.2016901 0.1937915 0.2095887"
      ]
     },
     "metadata": {},
     "output_type": "display_data"
    },
    {
     "data": {
      "image/png": "[encoded data removed]",
      "text/plain": [
       "plot without title"
      ]
     },
     "metadata": {
      "image/png": {
       "height": 420,
       "width": 540
      }
     },
     "output_type": "display_data"
    }
   ],
   "source": [
    "# + a quick plot of the priors:\n",
    "## what is the prior? Per sub, count each interval in each condition\n",
    "sub_pdat <- all_dat  %>% group_by(sub_id, prior, ts)  %>% summarize(n=n())\n",
    "\n",
    "# then compute prob. per condition:\n",
    "sub_pdat  %<>% group_by(sub_id,prior)  %>% mutate(P = n/sum(n))\n",
    "\n",
    "# use plottab() to get the means and a sense of the variability \n",
    "Pdat <- sub_pdat  %>% plottab(gv=c('prior','ts'), dv='P', group='sub_id' )\n",
    "Pdat %>% head() #just to illustrate\n",
    "\n",
    "# then plot\n",
    "Pdat  %>% ggplot(aes(x=ts,y=P,color=prior,fill=prior)) +\n",
    "\tgeom_errorbar(aes(ymin=lower,ymax=upper), color='black',width=0.05) +  \n",
    "\tgeom_bar(stat='identity') + facet_grid(prior~.) + \n",
    "\tgeom_hline(yintercept=0.0, color='black',linetype='dotted', size=0.5) +\n",
    "\ttheme_classic()\n"
   ]
  },
  {
   "cell_type": "markdown",
   "id": "e264cc15",
   "metadata": {},
   "source": [
    "# Central tendency effects per prior"
   ]
  },
  {
   "cell_type": "markdown",
   "id": "c8dcc9e5",
   "metadata": {},
   "source": [
    "First, we want to determine whether there was any effect of the prior on central tendency effects. For each participant, a different quadrant reflected a different prior. The assumption here was that these locations might each get associated with its prior, and affect reproductions accordingly.\n",
    "\n",
    "The reproduction time tr will be affected by the sampled duration ts. If there are no effects of the prior at all, then that's just it. In that model there might still be central tendency effects, but they're not dependent on the prior (the context) that the interval is presented in. So let's plot these data, and then put this to the test."
   ]
  },
  {
   "cell_type": "code",
   "execution_count": 26,
   "id": "6289aa96",
   "metadata": {
    "tags": []
   },
   "outputs": [
    {
     "name": "stderr",
     "output_type": "stream",
     "text": [
      "\u001b[1m\u001b[22m`summarise()` has grouped output by 'sub_id', 'prior'. You can override using the `.groups` argument.\n",
      "\u001b[1m\u001b[22m`summarise()` has grouped output by 'group', 'prior'. You can override using the `.groups` argument.\n",
      "\u001b[1m\u001b[22m`summarise()` has grouped output by 'prior'. You can override using the `.groups` argument.\n",
      "\u001b[1m\u001b[22m`geom_smooth()` using formula = 'y ~ x'\n"
     ]
    },
    {
     "data": {
      "image/png": "[encoded data removed]",
      "text/plain": [
       "plot without title"
      ]
     },
     "metadata": {
      "image/png": {
       "height": 420,
       "width": 540
      }
     },
     "output_type": "display_data"
    }
   ],
   "source": [
    "\n",
    "#### is there an effect of the prior?\n",
    "# compute the average tr per ts, per participant\n",
    "sub_ave <- all_dat %>% filter(outlier==FALSE)  %>% \n",
    "\tgroup_by(sub_id, prior,ts) %>% summarize(tr=mean(tr))\n",
    "\n",
    "\n",
    "gave <- sub_ave  %>% plottab(gv=c('prior','ts'),dv='tr',group='sub_id')\n",
    "\n",
    "# make the plot\n",
    "fig(9,7)  # set figure size:\n",
    "gave  %>% ggplot(aes(x=ts,y=tr,color=prior,fill=prior)) + \n",
    "\tgeom_line(aes(x=ts,y=ts,group=1), color='black',linetype='dotted') +  # veridical \n",
    "\tgeom_errorbar(aes(ymin=lower,ymax=upper),color='black', width=0.01) + \n",
    "\t#geom_line(linewidth=1) +                        # if you want lines that connect the data points, or:\n",
    "\tgeom_smooth(linewidth=1, method='lm', se=F) +    # if you want linear fits\n",
    "\tgeom_point(shape=21, color='white',size=3) + \n",
    "\ttheme_bw(base_size=20)\n"
   ]
  },
  {
   "cell_type": "code",
   "execution_count": 27,
   "id": "feb37792",
   "metadata": {
    "tags": []
   },
   "outputs": [
    {
     "name": "stdout",
     "output_type": "stream",
     "text": [
      "[1] \"Coefficients of the predictor terms\"\n"
     ]
    },
    {
     "data": {
      "text/plain": [
       "Linear mixed model fit by REML. t-tests use Satterthwaite's method [\n",
       "lmerModLmerTest]\n",
       "Formula: tr ~ ts * prior + (1 | sub_id)\n",
       "   Data: dd\n",
       "\n",
       "REML criterion at convergence: -8584.6\n",
       "\n",
       "Scaled residuals: \n",
       "    Min      1Q  Median      3Q     Max \n",
       "-4.2006 -0.6220 -0.0189  0.5943  5.8190 \n",
       "\n",
       "Random effects:\n",
       " Groups   Name        Variance Std.Dev.\n",
       " sub_id   (Intercept) 0.02093  0.1447  \n",
       " Residual             0.03730  0.1931  \n",
       "Number of obs: 19595, groups:  sub_id, 35\n",
       "\n",
       "Fixed effects:\n",
       "              Estimate Std. Error         df t value Pr(>|t|)    \n",
       "(Intercept)  3.339e-01  2.918e-02  6.848e+01  11.440  < 2e-16 ***\n",
       "ts           6.879e-01  2.616e-02  1.955e+04  26.294  < 2e-16 ***\n",
       "priorp2      1.555e-01  2.838e-02  1.955e+04   5.480 4.31e-08 ***\n",
       "priorp3      1.009e-01  3.195e-02  1.955e+04   3.158  0.00159 ** \n",
       "priorp4      8.302e-02  1.884e-02  1.955e+04   4.406 1.06e-05 ***\n",
       "ts:priorp2  -2.264e-01  3.680e-02  1.955e+04  -6.151 7.84e-10 ***\n",
       "ts:priorp3  -1.718e-01  3.706e-02  1.955e+04  -4.636 3.57e-06 ***\n",
       "ts:priorp4  -1.381e-01  2.869e-02  1.955e+04  -4.811 1.51e-06 ***\n",
       "---\n",
       "Signif. codes:  0 '***' 0.001 '**' 0.01 '*' 0.05 '.' 0.1 ' ' 1\n",
       "\n",
       "Correlation of Fixed Effects:\n",
       "           (Intr) ts     prirp2 prirp3 prirp4 ts:pr2 ts:pr3\n",
       "ts         -0.537                                          \n",
       "priorp2    -0.306  0.553                                   \n",
       "priorp3    -0.272  0.491  0.280                            \n",
       "priorp4    -0.461  0.832  0.474  0.421                     \n",
       "ts:priorp2  0.382 -0.711 -0.971 -0.349 -0.592              \n",
       "ts:priorp3  0.379 -0.706 -0.391 -0.957 -0.587  0.502       \n",
       "ts:priorp4  0.490 -0.912 -0.504 -0.448 -0.970  0.648  0.644"
      ]
     },
     "metadata": {},
     "output_type": "display_data"
    },
    {
     "name": "stdout",
     "output_type": "stream",
     "text": [
      "[1] \"Anova of the different predictors in the model:\"\n"
     ]
    },
    {
     "data": {
      "text/html": [
       "<table class=\"dataframe\">\n",
       "<caption>A anova: 3 × 6</caption>\n",
       "<thead>\n",
       "\t<tr><th></th><th scope=col>Sum Sq</th><th scope=col>Mean Sq</th><th scope=col>NumDF</th><th scope=col>DenDF</th><th scope=col>F value</th><th scope=col>Pr(&gt;F)</th></tr>\n",
       "\t<tr><th></th><th scope=col>&lt;dbl&gt;</th><th scope=col>&lt;dbl&gt;</th><th scope=col>&lt;int&gt;</th><th scope=col>&lt;dbl&gt;</th><th scope=col>&lt;dbl&gt;</th><th scope=col>&lt;dbl&gt;</th></tr>\n",
       "</thead>\n",
       "<tbody>\n",
       "\t<tr><th scope=row>ts</th><td>83.950210</td><td>83.9502102</td><td>1</td><td>19553.21</td><td>2250.70843</td><td>0.000000e+00</td></tr>\n",
       "\t<tr><th scope=row>prior</th><td> 1.318531</td><td> 0.4395102</td><td>3</td><td>19553.22</td><td>  11.78328</td><td>1.043197e-07</td></tr>\n",
       "\t<tr><th scope=row>ts:prior</th><td> 1.532839</td><td> 0.5109464</td><td>3</td><td>19553.24</td><td>  13.69849</td><td>6.370860e-09</td></tr>\n",
       "</tbody>\n",
       "</table>\n"
      ],
      "text/latex": [
       "A anova: 3 × 6\n",
       "\\begin{tabular}{r|llllll}\n",
       "  & Sum Sq & Mean Sq & NumDF & DenDF & F value & Pr(>F)\\\\\n",
       "  & <dbl> & <dbl> & <int> & <dbl> & <dbl> & <dbl>\\\\\n",
       "\\hline\n",
       "\tts & 83.950210 & 83.9502102 & 1 & 19553.21 & 2250.70843 & 0.000000e+00\\\\\n",
       "\tprior &  1.318531 &  0.4395102 & 3 & 19553.22 &   11.78328 & 1.043197e-07\\\\\n",
       "\tts:prior &  1.532839 &  0.5109464 & 3 & 19553.24 &   13.69849 & 6.370860e-09\\\\\n",
       "\\end{tabular}\n"
      ],
      "text/markdown": [
       "\n",
       "A anova: 3 × 6\n",
       "\n",
       "| <!--/--> | Sum Sq &lt;dbl&gt; | Mean Sq &lt;dbl&gt; | NumDF &lt;int&gt; | DenDF &lt;dbl&gt; | F value &lt;dbl&gt; | Pr(&gt;F) &lt;dbl&gt; |\n",
       "|---|---|---|---|---|---|---|\n",
       "| ts | 83.950210 | 83.9502102 | 1 | 19553.21 | 2250.70843 | 0.000000e+00 |\n",
       "| prior |  1.318531 |  0.4395102 | 3 | 19553.22 |   11.78328 | 1.043197e-07 |\n",
       "| ts:prior |  1.532839 |  0.5109464 | 3 | 19553.24 |   13.69849 | 6.370860e-09 |\n",
       "\n"
      ],
      "text/plain": [
       "         Sum Sq    Mean Sq    NumDF DenDF    F value    Pr(>F)      \n",
       "ts       83.950210 83.9502102 1     19553.21 2250.70843 0.000000e+00\n",
       "prior     1.318531  0.4395102 3     19553.22   11.78328 1.043197e-07\n",
       "ts:prior  1.532839  0.5109464 3     19553.24   13.69849 6.370860e-09"
      ]
     },
     "metadata": {},
     "output_type": "display_data"
    },
    {
     "name": "stdout",
     "output_type": "stream",
     "text": [
      "[1] \"Model comparisons:\"\n"
     ]
    },
    {
     "name": "stderr",
     "output_type": "stream",
     "text": [
      "refitting model(s) with ML (instead of REML)\n",
      "\n"
     ]
    },
    {
     "data": {
      "text/html": [
       "<table class=\"dataframe\">\n",
       "<caption>A anova: 2 × 8</caption>\n",
       "<thead>\n",
       "\t<tr><th></th><th scope=col>npar</th><th scope=col>AIC</th><th scope=col>BIC</th><th scope=col>logLik</th><th scope=col>deviance</th><th scope=col>Chisq</th><th scope=col>Df</th><th scope=col>Pr(&gt;Chisq)</th></tr>\n",
       "\t<tr><th></th><th scope=col>&lt;dbl&gt;</th><th scope=col>&lt;dbl&gt;</th><th scope=col>&lt;dbl&gt;</th><th scope=col>&lt;dbl&gt;</th><th scope=col>&lt;dbl&gt;</th><th scope=col>&lt;dbl&gt;</th><th scope=col>&lt;dbl&gt;</th><th scope=col>&lt;dbl&gt;</th></tr>\n",
       "</thead>\n",
       "<tbody>\n",
       "\t<tr><th scope=row>m0</th><td> 4</td><td>-8576.082</td><td>-8544.550</td><td>4292.041</td><td>-8584.082</td><td>      NA</td><td>NA</td><td>          NA</td></tr>\n",
       "\t<tr><th scope=row>m1</th><td>10</td><td>-8622.032</td><td>-8543.202</td><td>4321.016</td><td>-8642.032</td><td>57.94981</td><td> 6</td><td>1.173079e-10</td></tr>\n",
       "</tbody>\n",
       "</table>\n"
      ],
      "text/latex": [
       "A anova: 2 × 8\n",
       "\\begin{tabular}{r|llllllll}\n",
       "  & npar & AIC & BIC & logLik & deviance & Chisq & Df & Pr(>Chisq)\\\\\n",
       "  & <dbl> & <dbl> & <dbl> & <dbl> & <dbl> & <dbl> & <dbl> & <dbl>\\\\\n",
       "\\hline\n",
       "\tm0 &  4 & -8576.082 & -8544.550 & 4292.041 & -8584.082 &       NA & NA &           NA\\\\\n",
       "\tm1 & 10 & -8622.032 & -8543.202 & 4321.016 & -8642.032 & 57.94981 &  6 & 1.173079e-10\\\\\n",
       "\\end{tabular}\n"
      ],
      "text/markdown": [
       "\n",
       "A anova: 2 × 8\n",
       "\n",
       "| <!--/--> | npar &lt;dbl&gt; | AIC &lt;dbl&gt; | BIC &lt;dbl&gt; | logLik &lt;dbl&gt; | deviance &lt;dbl&gt; | Chisq &lt;dbl&gt; | Df &lt;dbl&gt; | Pr(&gt;Chisq) &lt;dbl&gt; |\n",
       "|---|---|---|---|---|---|---|---|---|\n",
       "| m0 |  4 | -8576.082 | -8544.550 | 4292.041 | -8584.082 |       NA | NA |           NA |\n",
       "| m1 | 10 | -8622.032 | -8543.202 | 4321.016 | -8642.032 | 57.94981 |  6 | 1.173079e-10 |\n",
       "\n"
      ],
      "text/plain": [
       "   npar AIC       BIC       logLik   deviance  Chisq    Df Pr(>Chisq)  \n",
       "m0  4   -8576.082 -8544.550 4292.041 -8584.082       NA NA           NA\n",
       "m1 10   -8622.032 -8543.202 4321.016 -8642.032 57.94981  6 1.173079e-10"
      ]
     },
     "metadata": {},
     "output_type": "display_data"
    }
   ],
   "source": [
    "## ^^^ This doesn't look like there's much of an effect of the prior. What do the stats say?\n",
    "## There are many ways to do statistical tests with lmers. Here, will do a simple anova on the effects\n",
    "# terms of a 'complete' model.\n",
    "# also, we look at the coefficients of the model.\n",
    "\n",
    "# model where tr is affected by both ts and the prior:\n",
    "#### fit models:\n",
    "dd <- all_dat  %>% filter(outlier==FALSE)\n",
    "M <- lmer(tr~ts*prior + (1|sub_id), data=dd)\n",
    "\n",
    "# look at the effects:\n",
    "print('Coefficients of the predictor terms')\n",
    "summary(M) \n",
    "\n",
    "# anova on the effects as a whole:\n",
    "print('Anova of the different predictors in the model:')\n",
    "anova(M)\n",
    "\n",
    "print('Model comparisons:')\n",
    "## different way to test this; model comparison between a model with and without an effect of the prior:\n",
    "m0 <- lmer(tr~ts + (1|sub_id), data=dd)\n",
    "m1 <- lmer(tr~ts*prior + (1|sub_id), data=dd)\n",
    "anova(m0, m1) # 3 statistical tests in one: \n",
    "# lower BIC is better\n",
    "# lower AIC is better, \n",
    "# Significance means more complex model is preferred over the one above it (chi-sq/Likelihood ratio test)\n"
   ]
  },
  {
   "cell_type": "code",
   "execution_count": 28,
   "id": "195824d0",
   "metadata": {
    "tags": []
   },
   "outputs": [
    {
     "name": "stderr",
     "output_type": "stream",
     "text": [
      "fixed-effect model matrix is rank deficient so dropping 18 columns / coefficients\n",
      "\n",
      "\n",
      "Correlation matrix not shown by default, as p = 26 > 12.\n",
      "Use print(obj, correlation=TRUE)  or\n",
      "    vcov(obj)        if you need it\n",
      "\n",
      "\n"
     ]
    },
    {
     "data": {
      "text/plain": [
       "Linear mixed model fit by REML. t-tests use Satterthwaite's method [\n",
       "lmerModLmerTest]\n",
       "Formula: tr ~ ts * prior + (1 | sub_id)\n",
       "   Data: dd\n",
       "\n",
       "REML criterion at convergence: -8475.6\n",
       "\n",
       "Scaled residuals: \n",
       "    Min      1Q  Median      3Q     Max \n",
       "-4.2114 -0.6220 -0.0203  0.5956  5.8920 \n",
       "\n",
       "Random effects:\n",
       " Groups   Name        Variance Std.Dev.\n",
       " sub_id   (Intercept) 0.02094  0.1447  \n",
       " Residual             0.03727  0.1930  \n",
       "Number of obs: 19595, groups:  sub_id, 35\n",
       "\n",
       "Fixed effects:\n",
       "                  Estimate Std. Error         df t value Pr(>|t|)    \n",
       "(Intercept)      6.358e-01  2.523e-02  3.829e+01  25.196  < 2e-16 ***\n",
       "ts0.525          6.264e-02  8.691e-03  1.954e+04   7.207 5.91e-13 ***\n",
       "ts0.6            1.167e-01  8.843e-03  1.954e+04  13.196  < 2e-16 ***\n",
       "ts0.675          1.705e-01  8.757e-03  1.954e+04  19.474  < 2e-16 ***\n",
       "ts0.75           2.040e-01  8.798e-03  1.954e+04  23.190  < 2e-16 ***\n",
       "ts0.825          2.270e-01  1.283e-02  1.954e+04  17.694  < 2e-16 ***\n",
       "ts0.9            2.762e-01  1.309e-02  1.954e+04  21.097  < 2e-16 ***\n",
       "ts0.975          2.911e-01  1.345e-02  1.954e+04  21.646  < 2e-16 ***\n",
       "ts1.05           3.362e-01  1.306e-02  1.954e+04  25.732  < 2e-16 ***\n",
       "ts1.125          3.799e-01  1.320e-02  1.954e+04  28.773  < 2e-16 ***\n",
       "ts1.2            4.306e-01  1.337e-02  1.954e+04  32.218  < 2e-16 ***\n",
       "priorp2          2.863e-03  1.570e-02  1.954e+04   0.182   0.8553    \n",
       "priorp3         -1.053e-02  1.601e-02  1.954e+04  -0.658   0.5108    \n",
       "priorp4          1.262e-02  1.131e-02  1.954e+04   1.116   0.2644    \n",
       "ts0.75:priorp2  -8.163e-03  1.797e-02  1.954e+04  -0.454   0.6497    \n",
       "ts0.825:priorp2  2.953e-03  1.528e-02  1.954e+04   0.193   0.8468    \n",
       "ts0.9:priorp2   -3.387e-03  1.549e-02  1.954e+04  -0.219   0.8269    \n",
       "ts0.975:priorp2  4.811e-03  1.570e-02  1.954e+04   0.306   0.7593    \n",
       "ts0.9:priorp3    2.819e-03  1.582e-02  1.954e+04   0.178   0.8585    \n",
       "ts0.975:priorp3  1.986e-02  1.602e-02  1.954e+04   1.240   0.2152    \n",
       "ts1.05:priorp3   5.589e-03  1.580e-02  1.954e+04   0.354   0.7236    \n",
       "ts1.125:priorp3  1.452e-02  1.580e-02  1.954e+04   0.919   0.3581    \n",
       "ts0.525:priorp4 -2.532e-02  1.576e-02  1.954e+04  -1.607   0.1082    \n",
       "ts0.6:priorp4    5.063e-03  1.587e-02  1.954e+04   0.319   0.7496    \n",
       "ts0.675:priorp4 -2.641e-02  1.542e-02  1.954e+04  -1.712   0.0869 .  \n",
       "ts0.75:priorp4  -7.050e-03  1.604e-02  1.954e+04  -0.439   0.6603    \n",
       "---\n",
       "Signif. codes:  0 '***' 0.001 '**' 0.01 '*' 0.05 '.' 0.1 ' ' 1\n",
       "fit warnings:\n",
       "fixed-effect model matrix is rank deficient so dropping 18 columns / coefficients"
      ]
     },
     "metadata": {},
     "output_type": "display_data"
    },
    {
     "name": "stdout",
     "output_type": "stream",
     "text": [
      "[1] \"-----------\"\n"
     ]
    },
    {
     "name": "stderr",
     "output_type": "stream",
     "text": [
      "Missing cells for: ts0.825:priorp1, ts0.9:priorp1, ts0.975:priorp1, ts1.05:priorp1, ts1.125:priorp1, ts1.2:priorp1, ts0.45:priorp2, ts0.525:priorp2, ts0.6:priorp2, ts0.675:priorp2, ts1.125:priorp2, ts1.2:priorp2, ts0.45:priorp3, ts0.525:priorp3, ts0.6:priorp3, ts0.675:priorp3, ts0.75:priorp3, ts0.825:priorp3.  \n",
      "Interpret type III hypotheses with care.\n",
      "\n"
     ]
    },
    {
     "data": {
      "text/html": [
       "<table class=\"dataframe\">\n",
       "<caption>A anova: 3 × 6</caption>\n",
       "<thead>\n",
       "\t<tr><th></th><th scope=col>Sum Sq</th><th scope=col>Mean Sq</th><th scope=col>NumDF</th><th scope=col>DenDF</th><th scope=col>F value</th><th scope=col>Pr(&gt;F)</th></tr>\n",
       "\t<tr><th></th><th scope=col>&lt;dbl&gt;</th><th scope=col>&lt;dbl&gt;</th><th scope=col>&lt;int&gt;</th><th scope=col>&lt;dbl&gt;</th><th scope=col>&lt;dbl&gt;</th><th scope=col>&lt;dbl&gt;</th></tr>\n",
       "</thead>\n",
       "<tbody>\n",
       "\t<tr><th scope=row>ts</th><td>120.6258322</td><td>12.06258322</td><td>10</td><td>19535.24</td><td>323.6943223</td><td>0.00000000</td></tr>\n",
       "\t<tr><th scope=row>prior</th><td>  0.3688897</td><td> 0.12296324</td><td> 3</td><td>19535.06</td><td>  3.2996666</td><td>0.01946454</td></tr>\n",
       "\t<tr><th scope=row>ts:prior</th><td>  0.3553228</td><td> 0.02961023</td><td>12</td><td>19535.22</td><td>  0.7945781</td><td>0.65667729</td></tr>\n",
       "</tbody>\n",
       "</table>\n"
      ],
      "text/latex": [
       "A anova: 3 × 6\n",
       "\\begin{tabular}{r|llllll}\n",
       "  & Sum Sq & Mean Sq & NumDF & DenDF & F value & Pr(>F)\\\\\n",
       "  & <dbl> & <dbl> & <int> & <dbl> & <dbl> & <dbl>\\\\\n",
       "\\hline\n",
       "\tts & 120.6258322 & 12.06258322 & 10 & 19535.24 & 323.6943223 & 0.00000000\\\\\n",
       "\tprior &   0.3688897 &  0.12296324 &  3 & 19535.06 &   3.2996666 & 0.01946454\\\\\n",
       "\tts:prior &   0.3553228 &  0.02961023 & 12 & 19535.22 &   0.7945781 & 0.65667729\\\\\n",
       "\\end{tabular}\n"
      ],
      "text/markdown": [
       "\n",
       "A anova: 3 × 6\n",
       "\n",
       "| <!--/--> | Sum Sq &lt;dbl&gt; | Mean Sq &lt;dbl&gt; | NumDF &lt;int&gt; | DenDF &lt;dbl&gt; | F value &lt;dbl&gt; | Pr(&gt;F) &lt;dbl&gt; |\n",
       "|---|---|---|---|---|---|---|\n",
       "| ts | 120.6258322 | 12.06258322 | 10 | 19535.24 | 323.6943223 | 0.00000000 |\n",
       "| prior |   0.3688897 |  0.12296324 |  3 | 19535.06 |   3.2996666 | 0.01946454 |\n",
       "| ts:prior |   0.3553228 |  0.02961023 | 12 | 19535.22 |   0.7945781 | 0.65667729 |\n",
       "\n"
      ],
      "text/plain": [
       "         Sum Sq      Mean Sq     NumDF DenDF    F value     Pr(>F)    \n",
       "ts       120.6258322 12.06258322 10    19535.24 323.6943223 0.00000000\n",
       "prior      0.3688897  0.12296324  3    19535.06   3.2996666 0.01946454\n",
       "ts:prior   0.3553228  0.02961023 12    19535.22   0.7945781 0.65667729"
      ]
     },
     "metadata": {},
     "output_type": "display_data"
    },
    {
     "name": "stderr",
     "output_type": "stream",
     "text": [
      "fixed-effect model matrix is rank deficient so dropping 18 columns / coefficients\n",
      "\n",
      "refitting model(s) with ML (instead of REML)\n",
      "\n"
     ]
    },
    {
     "data": {
      "text/html": [
       "<table class=\"dataframe\">\n",
       "<caption>A anova: 2 × 8</caption>\n",
       "<thead>\n",
       "\t<tr><th></th><th scope=col>npar</th><th scope=col>AIC</th><th scope=col>BIC</th><th scope=col>logLik</th><th scope=col>deviance</th><th scope=col>Chisq</th><th scope=col>Df</th><th scope=col>Pr(&gt;Chisq)</th></tr>\n",
       "\t<tr><th></th><th scope=col>&lt;dbl&gt;</th><th scope=col>&lt;dbl&gt;</th><th scope=col>&lt;dbl&gt;</th><th scope=col>&lt;dbl&gt;</th><th scope=col>&lt;dbl&gt;</th><th scope=col>&lt;dbl&gt;</th><th scope=col>&lt;dbl&gt;</th><th scope=col>&lt;dbl&gt;</th></tr>\n",
       "</thead>\n",
       "<tbody>\n",
       "\t<tr><th scope=row>m0</th><td>13</td><td>-8632.690</td><td>-8530.211</td><td>4329.345</td><td>-8658.690</td><td>      NA</td><td>NA</td><td>      NA</td></tr>\n",
       "\t<tr><th scope=row>m1</th><td>28</td><td>-8621.936</td><td>-8401.211</td><td>4338.968</td><td>-8677.936</td><td>19.24616</td><td>15</td><td>0.202795</td></tr>\n",
       "</tbody>\n",
       "</table>\n"
      ],
      "text/latex": [
       "A anova: 2 × 8\n",
       "\\begin{tabular}{r|llllllll}\n",
       "  & npar & AIC & BIC & logLik & deviance & Chisq & Df & Pr(>Chisq)\\\\\n",
       "  & <dbl> & <dbl> & <dbl> & <dbl> & <dbl> & <dbl> & <dbl> & <dbl>\\\\\n",
       "\\hline\n",
       "\tm0 & 13 & -8632.690 & -8530.211 & 4329.345 & -8658.690 &       NA & NA &       NA\\\\\n",
       "\tm1 & 28 & -8621.936 & -8401.211 & 4338.968 & -8677.936 & 19.24616 & 15 & 0.202795\\\\\n",
       "\\end{tabular}\n"
      ],
      "text/markdown": [
       "\n",
       "A anova: 2 × 8\n",
       "\n",
       "| <!--/--> | npar &lt;dbl&gt; | AIC &lt;dbl&gt; | BIC &lt;dbl&gt; | logLik &lt;dbl&gt; | deviance &lt;dbl&gt; | Chisq &lt;dbl&gt; | Df &lt;dbl&gt; | Pr(&gt;Chisq) &lt;dbl&gt; |\n",
       "|---|---|---|---|---|---|---|---|---|\n",
       "| m0 | 13 | -8632.690 | -8530.211 | 4329.345 | -8658.690 |       NA | NA |       NA |\n",
       "| m1 | 28 | -8621.936 | -8401.211 | 4338.968 | -8677.936 | 19.24616 | 15 | 0.202795 |\n",
       "\n"
      ],
      "text/plain": [
       "   npar AIC       BIC       logLik   deviance  Chisq    Df Pr(>Chisq)\n",
       "m0 13   -8632.690 -8530.211 4329.345 -8658.690       NA NA       NA  \n",
       "m1 28   -8621.936 -8401.211 4338.968 -8677.936 19.24616 15 0.202795  "
      ]
     },
     "metadata": {},
     "output_type": "display_data"
    }
   ],
   "source": [
    "# Somewhat surprisingly, there actually IS a strong effect of the prior. But, the effect doesn't resemble \n",
    "# the central tendency effect at all. Note that ts is coded as a linear predictor here, even though the \n",
    "# relation between ts and tr doesn't seem to be linear. The effect of the prior likely corresponds to the \n",
    "# effect of the slope changing for short v long durations.\n",
    "\n",
    "# we'll test this by making ts a factorial variable (ignoring any slope-effects), then checking whether evidence for a prior-effect is still there.\n",
    "dd <- all_dat  %>% filter(outlier==FALSE)\n",
    "dd$ts %<>% as.factor\n",
    "M <- lmer(tr~ts*prior + (1|sub_id), data=dd)\n",
    "\n",
    "# look at the effects:\n",
    "summary(M) \n",
    "print('-----------')\n",
    "# anova on the effects as a whole:\n",
    "anova(M)\n",
    "\n",
    "## model comparison between a model with and without an effect of the prior:\n",
    "m0 <- lmer(tr~ts + (1|sub_id), data=dd)\n",
    "m1 <- lmer(tr~ts*prior + (1|sub_id), data=dd)\n",
    "anova(m0, m1) # lower BIC or AIC is better, significance means a preferred, more complex model.\n",
    "\n",
    "\n",
    "\n",
    "### below, you can see that the interaction effect (ts *prior) is completely gone. "
   ]
  },
  {
   "cell_type": "markdown",
   "id": "bcc0eed7",
   "metadata": {},
   "source": [
    "So, to conclude: unlike the J&S result, we don't find central tendency effects that are different per prior.\n",
    "There is a global central tendency effect, and the slope of this graph flattens for larger intervals."
   ]
  },
  {
   "cell_type": "markdown",
   "id": "e4e80ca8",
   "metadata": {},
   "source": [
    "# Sequential effects in reproduction"
   ]
  },
  {
   "cell_type": "markdown",
   "id": "f8b82317",
   "metadata": {},
   "source": [
    "Next, we will test whether the data from our experiment reveals sequential effects; that is, whether the intervals on previous trials affect the reproduction on the current trial. This is an effect that most memory models and theories would predict out-of-the-box, but the bayesian hypothesis doesn't immediately account for it."
   ]
  },
  {
   "cell_type": "code",
   "execution_count": 29,
   "id": "121df16f",
   "metadata": {
    "tags": []
   },
   "outputs": [
    {
     "name": "stderr",
     "output_type": "stream",
     "text": [
      "\n",
      "Correlation matrix not shown by default, as p = 15 > 12.\n",
      "Use print(obj, correlation=TRUE)  or\n",
      "    vcov(obj)        if you need it\n",
      "\n",
      "\n"
     ]
    },
    {
     "data": {
      "text/plain": [
       "Linear mixed model fit by REML. t-tests use Satterthwaite's method [\n",
       "lmerModLmerTest]\n",
       "Formula: tr ~ ts * prior + ts_1 + ts_2 + ts_3 + ts_4 + ts_5 + ts_6 + ts_7 +  \n",
       "    (1 | sub_id)\n",
       "   Data: dd\n",
       "\n",
       "REML criterion at convergence: -8690.7\n",
       "\n",
       "Scaled residuals: \n",
       "    Min      1Q  Median      3Q     Max \n",
       "-4.2946 -0.6166 -0.0177  0.5942  5.7639 \n",
       "\n",
       "Random effects:\n",
       " Groups   Name        Variance Std.Dev.\n",
       " sub_id   (Intercept) 0.02101  0.1449  \n",
       " Residual             0.03700  0.1924  \n",
       "Number of obs: 19595, groups:  sub_id, 35\n",
       "\n",
       "Fixed effects:\n",
       "              Estimate Std. Error         df t value Pr(>|t|)    \n",
       "(Intercept)  2.087e-01  3.257e-02  1.055e+02   6.408 4.22e-09 ***\n",
       "ts           6.895e-01  2.606e-02  1.955e+04  26.458  < 2e-16 ***\n",
       "priorp2      1.584e-01  2.827e-02  1.955e+04   5.605 2.11e-08 ***\n",
       "priorp3      1.034e-01  3.182e-02  1.955e+04   3.249 0.001160 ** \n",
       "priorp4      8.569e-02  1.877e-02  1.955e+04   4.564 5.04e-06 ***\n",
       "ts_1         7.251e-02  6.226e-03  1.955e+04  11.646  < 2e-16 ***\n",
       "ts_2         2.252e-02  6.230e-03  1.955e+04   3.615 0.000302 ***\n",
       "ts_3         2.321e-02  6.232e-03  1.955e+04   3.725 0.000196 ***\n",
       "ts_4         1.242e-02  6.235e-03  1.955e+04   1.992 0.046332 *  \n",
       "ts_5         6.372e-03  6.242e-03  1.955e+04   1.021 0.307304    \n",
       "ts_6         5.267e-03  6.233e-03  1.955e+04   0.845 0.398176    \n",
       "ts_7         4.040e-03  6.234e-03  1.955e+04   0.648 0.516961    \n",
       "ts:priorp2  -2.291e-01  3.666e-02  1.955e+04  -6.250 4.20e-10 ***\n",
       "ts:priorp3  -1.737e-01  3.691e-02  1.955e+04  -4.707 2.53e-06 ***\n",
       "ts:priorp4  -1.408e-01  2.858e-02  1.955e+04  -4.925 8.51e-07 ***\n",
       "---\n",
       "Signif. codes:  0 '***' 0.001 '**' 0.01 '*' 0.05 '.' 0.1 ' ' 1"
      ]
     },
     "metadata": {},
     "output_type": "display_data"
    },
    {
     "data": {
      "text/html": [
       "<table class=\"dataframe\">\n",
       "<caption>A anova: 10 × 6</caption>\n",
       "<thead>\n",
       "\t<tr><th></th><th scope=col>Sum Sq</th><th scope=col>Mean Sq</th><th scope=col>NumDF</th><th scope=col>DenDF</th><th scope=col>F value</th><th scope=col>Pr(&gt;F)</th></tr>\n",
       "\t<tr><th></th><th scope=col>&lt;dbl&gt;</th><th scope=col>&lt;dbl&gt;</th><th scope=col>&lt;int&gt;</th><th scope=col>&lt;dbl&gt;</th><th scope=col>&lt;dbl&gt;</th><th scope=col>&lt;dbl&gt;</th></tr>\n",
       "</thead>\n",
       "<tbody>\n",
       "\t<tr><th scope=row>ts</th><td>83.84001503</td><td>83.84001503</td><td>1</td><td>19546.21</td><td>2265.9343565</td><td>0.000000e+00</td></tr>\n",
       "\t<tr><th scope=row>prior</th><td> 1.37825553</td><td> 0.45941851</td><td>3</td><td>19546.22</td><td>  12.4166507</td><td>4.142862e-08</td></tr>\n",
       "\t<tr><th scope=row>ts_1</th><td> 5.01810181</td><td> 5.01810181</td><td>1</td><td>19546.08</td><td> 135.6236552</td><td>3.058606e-31</td></tr>\n",
       "\t<tr><th scope=row>ts_2</th><td> 0.48341008</td><td> 0.48341008</td><td>1</td><td>19546.09</td><td>  13.0650682</td><td>3.016099e-04</td></tr>\n",
       "\t<tr><th scope=row>ts_3</th><td> 0.51327122</td><td> 0.51327122</td><td>1</td><td>19546.07</td><td>  13.8721217</td><td>1.962297e-04</td></tr>\n",
       "\t<tr><th scope=row>ts_4</th><td> 0.14689091</td><td> 0.14689091</td><td>1</td><td>19546.09</td><td>   3.9700035</td><td>4.633156e-02</td></tr>\n",
       "\t<tr><th scope=row>ts_5</th><td> 0.03856462</td><td> 0.03856462</td><td>1</td><td>19546.09</td><td>   1.0422816</td><td>3.073041e-01</td></tr>\n",
       "\t<tr><th scope=row>ts_6</th><td> 0.02641297</td><td> 0.02641297</td><td>1</td><td>19546.09</td><td>   0.7138604</td><td>3.981756e-01</td></tr>\n",
       "\t<tr><th scope=row>ts_7</th><td> 0.01553890</td><td> 0.01553890</td><td>1</td><td>19546.10</td><td>   0.4199682</td><td>5.169605e-01</td></tr>\n",
       "\t<tr><th scope=row>ts:prior</th><td> 1.57017711</td><td> 0.52339237</td><td>3</td><td>19546.23</td><td>  14.1456648</td><td>3.312564e-09</td></tr>\n",
       "</tbody>\n",
       "</table>\n"
      ],
      "text/latex": [
       "A anova: 10 × 6\n",
       "\\begin{tabular}{r|llllll}\n",
       "  & Sum Sq & Mean Sq & NumDF & DenDF & F value & Pr(>F)\\\\\n",
       "  & <dbl> & <dbl> & <int> & <dbl> & <dbl> & <dbl>\\\\\n",
       "\\hline\n",
       "\tts & 83.84001503 & 83.84001503 & 1 & 19546.21 & 2265.9343565 & 0.000000e+00\\\\\n",
       "\tprior &  1.37825553 &  0.45941851 & 3 & 19546.22 &   12.4166507 & 4.142862e-08\\\\\n",
       "\tts\\_1 &  5.01810181 &  5.01810181 & 1 & 19546.08 &  135.6236552 & 3.058606e-31\\\\\n",
       "\tts\\_2 &  0.48341008 &  0.48341008 & 1 & 19546.09 &   13.0650682 & 3.016099e-04\\\\\n",
       "\tts\\_3 &  0.51327122 &  0.51327122 & 1 & 19546.07 &   13.8721217 & 1.962297e-04\\\\\n",
       "\tts\\_4 &  0.14689091 &  0.14689091 & 1 & 19546.09 &    3.9700035 & 4.633156e-02\\\\\n",
       "\tts\\_5 &  0.03856462 &  0.03856462 & 1 & 19546.09 &    1.0422816 & 3.073041e-01\\\\\n",
       "\tts\\_6 &  0.02641297 &  0.02641297 & 1 & 19546.09 &    0.7138604 & 3.981756e-01\\\\\n",
       "\tts\\_7 &  0.01553890 &  0.01553890 & 1 & 19546.10 &    0.4199682 & 5.169605e-01\\\\\n",
       "\tts:prior &  1.57017711 &  0.52339237 & 3 & 19546.23 &   14.1456648 & 3.312564e-09\\\\\n",
       "\\end{tabular}\n"
      ],
      "text/markdown": [
       "\n",
       "A anova: 10 × 6\n",
       "\n",
       "| <!--/--> | Sum Sq &lt;dbl&gt; | Mean Sq &lt;dbl&gt; | NumDF &lt;int&gt; | DenDF &lt;dbl&gt; | F value &lt;dbl&gt; | Pr(&gt;F) &lt;dbl&gt; |\n",
       "|---|---|---|---|---|---|---|\n",
       "| ts | 83.84001503 | 83.84001503 | 1 | 19546.21 | 2265.9343565 | 0.000000e+00 |\n",
       "| prior |  1.37825553 |  0.45941851 | 3 | 19546.22 |   12.4166507 | 4.142862e-08 |\n",
       "| ts_1 |  5.01810181 |  5.01810181 | 1 | 19546.08 |  135.6236552 | 3.058606e-31 |\n",
       "| ts_2 |  0.48341008 |  0.48341008 | 1 | 19546.09 |   13.0650682 | 3.016099e-04 |\n",
       "| ts_3 |  0.51327122 |  0.51327122 | 1 | 19546.07 |   13.8721217 | 1.962297e-04 |\n",
       "| ts_4 |  0.14689091 |  0.14689091 | 1 | 19546.09 |    3.9700035 | 4.633156e-02 |\n",
       "| ts_5 |  0.03856462 |  0.03856462 | 1 | 19546.09 |    1.0422816 | 3.073041e-01 |\n",
       "| ts_6 |  0.02641297 |  0.02641297 | 1 | 19546.09 |    0.7138604 | 3.981756e-01 |\n",
       "| ts_7 |  0.01553890 |  0.01553890 | 1 | 19546.10 |    0.4199682 | 5.169605e-01 |\n",
       "| ts:prior |  1.57017711 |  0.52339237 | 3 | 19546.23 |   14.1456648 | 3.312564e-09 |\n",
       "\n"
      ],
      "text/plain": [
       "         Sum Sq      Mean Sq     NumDF DenDF    F value      Pr(>F)      \n",
       "ts       83.84001503 83.84001503 1     19546.21 2265.9343565 0.000000e+00\n",
       "prior     1.37825553  0.45941851 3     19546.22   12.4166507 4.142862e-08\n",
       "ts_1      5.01810181  5.01810181 1     19546.08  135.6236552 3.058606e-31\n",
       "ts_2      0.48341008  0.48341008 1     19546.09   13.0650682 3.016099e-04\n",
       "ts_3      0.51327122  0.51327122 1     19546.07   13.8721217 1.962297e-04\n",
       "ts_4      0.14689091  0.14689091 1     19546.09    3.9700035 4.633156e-02\n",
       "ts_5      0.03856462  0.03856462 1     19546.09    1.0422816 3.073041e-01\n",
       "ts_6      0.02641297  0.02641297 1     19546.09    0.7138604 3.981756e-01\n",
       "ts_7      0.01553890  0.01553890 1     19546.10    0.4199682 5.169605e-01\n",
       "ts:prior  1.57017711  0.52339237 3     19546.23   14.1456648 3.312564e-09"
      ]
     },
     "metadata": {},
     "output_type": "display_data"
    }
   ],
   "source": [
    "### This time, we start with the statistical test, and then plot the coefficients of the model:\n",
    "## The coefficients of the model give a better view of n-1 effect than the actual plots do.\n",
    "\n",
    "dd <- all_dat  %>% filter(outlier==FALSE)\n",
    "mf <- lmer(tr~ts*prior + ts_1 + ts_2 + ts_3 + ts_4 + ts_5 + ts_6 + ts_7 + (1|sub_id), data=dd,na.action='na.omit')\n",
    "summary(mf)\n",
    "\n",
    "anova(mf)\n"
   ]
  },
  {
   "cell_type": "code",
   "execution_count": 30,
   "id": "aa1d59a2",
   "metadata": {
    "tags": []
   },
   "outputs": [
    {
     "name": "stderr",
     "output_type": "stream",
     "text": [
      "No id variables; using all as measure variables\n",
      "\n",
      "\u001b[1m\u001b[22m`summarise()` has grouped output by 'group'. You can override using the `.groups` argument.\n",
      "\u001b[1m\u001b[22m`summarise()` has grouped output by 'group'. You can override using the `.groups` argument.\n"
     ]
    },
    {
     "data": {
      "image/png": "[encoded data removed]",
      "text/plain": [
       "plot without title"
      ]
     },
     "metadata": {
      "image/png": {
       "height": 540,
       "width": 720
      }
     },
     "output_type": "display_data"
    }
   ],
   "source": [
    "# The t-values of each individual effect show that there up to n-4,\n",
    "# preceding trials significant effects on reproductions. For n-5,6,7 the trend continues.\n",
    "# These effects are significant, but they're also rather small.\n",
    "\n",
    "# To plot these, we'll make a table with the effect per-subject. That should closely correspond to the average, but it allows us to get a sense how much these effects vary across subjects:\n",
    "# To fit an individual lm per subject, we use lmList(), then extract (and plot) the coefficients of each linear model\n",
    "\n",
    "# list of lm's:\n",
    "mf <- lmList(tr~ts*prior + ts_1 + ts_2 + ts_3 + ts_4 + ts_5 + ts_6 + ts_7 |sub_id, data=dd)\n",
    "# extract coefficients, then extract only 'ts' coefficients, then turn into long format:\n",
    "mf  %<>% coefficients  %>% data.frame  %>% .[,c(2,seq(6,12))]  %>% melt\n",
    "\n",
    "# add subject id's back into this table:\n",
    "mf$sub_id <- rep(seq(1,35), 8)  %>% as.factor\n",
    "names(mf) <- c('coeffname','bval','sub_id')\n",
    "\n",
    "# plottab function won't handle '_' in factor levels well. Get rid of them:\n",
    "levels(mf$coeffname) <- paste0('ts',seq(0,7))\n",
    "gave <- mf %>% plottab(dv='bval',gv=c('coeffname'), group='sub_id')\n",
    "\n",
    "## plot coeffcients, usig a bar chart:\n",
    "\n",
    "fig(12,9)\n",
    "gave <- mf %>% plottab(dv='bval',gv=c('coeffname'), group='sub_id')\n",
    "gave  %>% ggplot(aes(x=coeffname,y=bval,group=1)) + \n",
    "\tgeom_hline(yintercept=0.0,linetype='dotted',linewidth=0.5) +\n",
    "\tgeom_bar(stat='identity',fill='darkgray') +\n",
    "\tgeom_errorbar(aes(ymin=lower,ymax=upper),color='black',width=0.05) + \n",
    "\tgeom_point(size=2.5,shape=21,color='white',fill='black') + \n",
    "\ttheme_bw(base_size=15)\n",
    "\n"
   ]
  },
  {
   "cell_type": "markdown",
   "id": "14025839",
   "metadata": {},
   "source": [
    "The plot does _not_ show the relative effect of the prior on the reproductions here. Roughly, you can see that the beta-value (coefficient) of ts itself is around .7, and of ts_1 is around .07 (so ~10% of that). This shows the relative effect of the current and previous ts on reproductions. The ts on trials further back have a minor, but positive effect on reproductions.  "
   ]
  },
  {
   "cell_type": "markdown",
   "id": "55e6148f",
   "metadata": {},
   "source": [
    "# The effects of location"
   ]
  },
  {
   "cell_type": "markdown",
   "id": "c0d58abe",
   "metadata": {},
   "source": [
    "The effects thus far suggest that reproductions simply are affected by history, and that the different locations (and the four different priors) do not have a big effect on the reproductions. Here, we explore whether a) there is any effect of the location at all, and b) whether the sequential effect of ts_1 plotted above is modulated by location repetition. "
   ]
  },
  {
   "cell_type": "code",
   "execution_count": 31,
   "id": "b506bddd",
   "metadata": {
    "tags": []
   },
   "outputs": [
    {
     "name": "stderr",
     "output_type": "stream",
     "text": [
      "\n",
      "Correlation matrix not shown by default, as p = 14 > 12.\n",
      "Use print(obj, correlation=TRUE)  or\n",
      "    vcov(obj)        if you need it\n",
      "\n",
      "\n"
     ]
    },
    {
     "data": {
      "text/plain": [
       "Linear mixed model fit by REML. t-tests use Satterthwaite's method [\n",
       "lmerModLmerTest]\n",
       "Formula: tr ~ ts * prior + quadrant + ts_1 * qrep + (1 | sub_id)\n",
       "   Data: dd\n",
       "\n",
       "REML criterion at convergence: -8698.9\n",
       "\n",
       "Scaled residuals: \n",
       "    Min      1Q  Median      3Q     Max \n",
       "-4.1875 -0.6152 -0.0161  0.5932  5.7133 \n",
       "\n",
       "Random effects:\n",
       " Groups   Name        Variance Std.Dev.\n",
       " sub_id   (Intercept) 0.02098  0.1448  \n",
       " Residual             0.03699  0.1923  \n",
       "Number of obs: 19595, groups:  sub_id, 35\n",
       "\n",
       "Fixed effects:\n",
       "               Estimate Std. Error         df t value Pr(>|t|)    \n",
       "(Intercept)   2.403e-01  3.137e-02  9.097e+01   7.662 1.91e-11 ***\n",
       "ts            6.878e-01  2.606e-02  1.955e+04  26.391  < 2e-16 ***\n",
       "priorp2       1.532e-01  2.830e-02  1.955e+04   5.414 6.22e-08 ***\n",
       "priorp3       1.011e-01  3.190e-02  1.955e+04   3.169  0.00153 ** \n",
       "priorp4       8.345e-02  1.881e-02  1.955e+04   4.436 9.23e-06 ***\n",
       "quadrantBR    9.710e-03  3.954e-03  1.955e+04   2.456  0.01407 *  \n",
       "quadrantTL   -5.643e-05  3.972e-03  1.955e+04  -0.014  0.98867    \n",
       "quadrantTR   -1.980e-03  4.051e-03  1.955e+04  -0.489  0.62509    \n",
       "ts_1          9.545e-02  1.390e-02  1.955e+04   6.866 6.78e-12 ***\n",
       "qrepswi       4.061e-02  1.408e-02  1.955e+04   2.884  0.00394 ** \n",
       "ts:priorp2   -2.248e-01  3.666e-02  1.955e+04  -6.134 8.74e-10 ***\n",
       "ts:priorp3   -1.720e-01  3.691e-02  1.955e+04  -4.660 3.18e-06 ***\n",
       "ts:priorp4   -1.386e-01  2.858e-02  1.955e+04  -4.848 1.26e-06 ***\n",
       "ts_1:qrepswi -3.057e-02  1.621e-02  1.955e+04  -1.886  0.05927 .  \n",
       "---\n",
       "Signif. codes:  0 '***' 0.001 '**' 0.01 '*' 0.05 '.' 0.1 ' ' 1"
      ]
     },
     "metadata": {},
     "output_type": "display_data"
    },
    {
     "data": {
      "text/html": [
       "<table class=\"dataframe\">\n",
       "<caption>A anova: 7 × 6</caption>\n",
       "<thead>\n",
       "\t<tr><th></th><th scope=col>Sum Sq</th><th scope=col>Mean Sq</th><th scope=col>NumDF</th><th scope=col>DenDF</th><th scope=col>F value</th><th scope=col>Pr(&gt;F)</th></tr>\n",
       "\t<tr><th></th><th scope=col>&lt;dbl&gt;</th><th scope=col>&lt;dbl&gt;</th><th scope=col>&lt;int&gt;</th><th scope=col>&lt;dbl&gt;</th><th scope=col>&lt;dbl&gt;</th><th scope=col>&lt;dbl&gt;</th></tr>\n",
       "</thead>\n",
       "<tbody>\n",
       "\t<tr><th scope=row>ts</th><td>83.9662764</td><td>83.9662764</td><td>1</td><td>19547.21</td><td>2269.763415</td><td>0.000000e+00</td></tr>\n",
       "\t<tr><th scope=row>prior</th><td> 1.2903135</td><td> 0.4301045</td><td>3</td><td>19547.22</td><td>  11.626518</td><td>1.310870e-07</td></tr>\n",
       "\t<tr><th scope=row>quadrant</th><td> 0.3928975</td><td> 0.1309658</td><td>3</td><td>19547.01</td><td>   3.540248</td><td>1.398059e-02</td></tr>\n",
       "\t<tr><th scope=row>ts_1</th><td> 4.1379097</td><td> 4.1379097</td><td>1</td><td>19547.08</td><td> 111.855335</td><td>4.520643e-26</td></tr>\n",
       "\t<tr><th scope=row>qrep</th><td> 0.3076116</td><td> 0.3076116</td><td>1</td><td>19547.16</td><td>   8.315310</td><td>3.935519e-03</td></tr>\n",
       "\t<tr><th scope=row>ts:prior</th><td> 1.5183765</td><td> 0.5061255</td><td>3</td><td>19547.23</td><td>  13.681506</td><td>6.531108e-09</td></tr>\n",
       "\t<tr><th scope=row>ts_1:qrep</th><td> 0.1316277</td><td> 0.1316277</td><td>1</td><td>19547.18</td><td>   3.558139</td><td>5.926893e-02</td></tr>\n",
       "</tbody>\n",
       "</table>\n"
      ],
      "text/latex": [
       "A anova: 7 × 6\n",
       "\\begin{tabular}{r|llllll}\n",
       "  & Sum Sq & Mean Sq & NumDF & DenDF & F value & Pr(>F)\\\\\n",
       "  & <dbl> & <dbl> & <int> & <dbl> & <dbl> & <dbl>\\\\\n",
       "\\hline\n",
       "\tts & 83.9662764 & 83.9662764 & 1 & 19547.21 & 2269.763415 & 0.000000e+00\\\\\n",
       "\tprior &  1.2903135 &  0.4301045 & 3 & 19547.22 &   11.626518 & 1.310870e-07\\\\\n",
       "\tquadrant &  0.3928975 &  0.1309658 & 3 & 19547.01 &    3.540248 & 1.398059e-02\\\\\n",
       "\tts\\_1 &  4.1379097 &  4.1379097 & 1 & 19547.08 &  111.855335 & 4.520643e-26\\\\\n",
       "\tqrep &  0.3076116 &  0.3076116 & 1 & 19547.16 &    8.315310 & 3.935519e-03\\\\\n",
       "\tts:prior &  1.5183765 &  0.5061255 & 3 & 19547.23 &   13.681506 & 6.531108e-09\\\\\n",
       "\tts\\_1:qrep &  0.1316277 &  0.1316277 & 1 & 19547.18 &    3.558139 & 5.926893e-02\\\\\n",
       "\\end{tabular}\n"
      ],
      "text/markdown": [
       "\n",
       "A anova: 7 × 6\n",
       "\n",
       "| <!--/--> | Sum Sq &lt;dbl&gt; | Mean Sq &lt;dbl&gt; | NumDF &lt;int&gt; | DenDF &lt;dbl&gt; | F value &lt;dbl&gt; | Pr(&gt;F) &lt;dbl&gt; |\n",
       "|---|---|---|---|---|---|---|\n",
       "| ts | 83.9662764 | 83.9662764 | 1 | 19547.21 | 2269.763415 | 0.000000e+00 |\n",
       "| prior |  1.2903135 |  0.4301045 | 3 | 19547.22 |   11.626518 | 1.310870e-07 |\n",
       "| quadrant |  0.3928975 |  0.1309658 | 3 | 19547.01 |    3.540248 | 1.398059e-02 |\n",
       "| ts_1 |  4.1379097 |  4.1379097 | 1 | 19547.08 |  111.855335 | 4.520643e-26 |\n",
       "| qrep |  0.3076116 |  0.3076116 | 1 | 19547.16 |    8.315310 | 3.935519e-03 |\n",
       "| ts:prior |  1.5183765 |  0.5061255 | 3 | 19547.23 |   13.681506 | 6.531108e-09 |\n",
       "| ts_1:qrep |  0.1316277 |  0.1316277 | 1 | 19547.18 |    3.558139 | 5.926893e-02 |\n",
       "\n"
      ],
      "text/plain": [
       "          Sum Sq     Mean Sq    NumDF DenDF    F value     Pr(>F)      \n",
       "ts        83.9662764 83.9662764 1     19547.21 2269.763415 0.000000e+00\n",
       "prior      1.2903135  0.4301045 3     19547.22   11.626518 1.310870e-07\n",
       "quadrant   0.3928975  0.1309658 3     19547.01    3.540248 1.398059e-02\n",
       "ts_1       4.1379097  4.1379097 1     19547.08  111.855335 4.520643e-26\n",
       "qrep       0.3076116  0.3076116 1     19547.16    8.315310 3.935519e-03\n",
       "ts:prior   1.5183765  0.5061255 3     19547.23   13.681506 6.531108e-09\n",
       "ts_1:qrep  0.1316277  0.1316277 1     19547.18    3.558139 5.926893e-02"
      ]
     },
     "metadata": {},
     "output_type": "display_data"
    }
   ],
   "source": [
    "Mquad <- lmer(tr~ts*prior + quadrant + ts_1*qrep + (1|sub_id), data=dd, na.action='na.omit' )\n",
    "summary(Mquad)\n",
    "anova(Mquad)\n"
   ]
  },
  {
   "cell_type": "markdown",
   "id": "8b334114",
   "metadata": {},
   "source": [
    "The results suggest that, even if we consider the _prior_, it turns out that the actual _location_ that an item is presented will also affect reproductions. From the coefficients, it seems that with respect to stimuli in the bottom-left, participants make longer reproductions in the bottom-right, and shorter ones in the top left and top-right. Again, these effects are small, but do hint that location matters:\n",
    "\n",
    "In addition, we see that repeated locations affect temporal reproductions: reproductions are a bit longer whenever the location changes.\n",
    "\n",
    "Finally, we see that there is a hint of an interaction between the previous ts and the previous quadrant.\n",
    "\n",
    "Below, we plot the effect of quadrant on reproductions. Note that we cannot plot error bars here, because not every participant has ever seen certain durations in some of the quadrants. The differences are small, but at almost every ts the items presented in the BL show longer reproduction times. \n",
    "Subsequently, we plot the effect of whether the quadrant repeats or not. Repeating stimulus locations lead to shorter reproductions. And even though this isn't significant in the statistical model, it seems that this primarily affects shorter interval durations.\n"
   ]
  },
  {
   "cell_type": "code",
   "execution_count": 32,
   "id": "7c26a5bf",
   "metadata": {
    "tags": []
   },
   "outputs": [
    {
     "name": "stderr",
     "output_type": "stream",
     "text": [
      "\u001b[1m\u001b[22m`summarise()` has grouped output by 'sub_id', 'quadrant'. You can override using the `.groups` argument.\n",
      "\u001b[1m\u001b[22m`summarise()` has grouped output by 'quadrant'. You can override using the `.groups` argument.\n",
      "\u001b[1m\u001b[22m`summarise()` has grouped output by 'sub_id', 'qrep'. You can override using the `.groups` argument.\n",
      "\u001b[1m\u001b[22m`summarise()` has grouped output by 'qrep'. You can override using the `.groups` argument.\n"
     ]
    },
    {
     "data": {
      "image/png": "[encoded data removed]",
      "text/plain": [
       "plot without title"
      ]
     },
     "metadata": {
      "image/png": {
       "height": 540,
       "width": 720
      }
     },
     "output_type": "display_data"
    },
    {
     "data": {
      "image/png": "[encoded data removed]",
      "text/plain": [
       "plot without title"
      ]
     },
     "metadata": {
      "image/png": {
       "height": 540,
       "width": 720
      }
     },
     "output_type": "display_data"
    }
   ],
   "source": [
    "sub_ave <- all_dat %>% filter(outlier==FALSE)  %>% \n",
    "\tgroup_by(sub_id, quadrant,ts) %>% summarize(tr=mean(tr))\n",
    "gave <- sub_ave  %>% group_by(quadrant,ts)  %>% \n",
    "\tsummarize(tr=mean(tr))\n",
    "\n",
    "# change factor order to something intuitive\n",
    "gave$quadrant  %<>% factor(levels=c('TL','TR','BL','BR'))\n",
    "\n",
    "gave  %>% ggplot(aes(x=ts,y=tr,color=quadrant,fill=quadrant)) + \n",
    "\tgeom_line(aes(x=ts,y=ts,group=1), color='black',linetype='dashed') + \n",
    "\tgeom_line(linewidth=1) + \n",
    "\tgeom_point(shape=21, color='white',size=2.5) + theme_bw(base_size=15)\n",
    "\n",
    "## in a similar way, we can visualize the effect of location repetitions (qrep):\n",
    "sub_ave <- all_dat %>% filter(outlier==FALSE)  %>% \n",
    "\tgroup_by(sub_id, qrep,ts) %>% summarize(tr=mean(tr))\n",
    "gave <- sub_ave  %>% group_by(qrep,ts)  %>% \n",
    "\tsummarize(tr=mean(tr))\n",
    "gave  %<>% filter(!is.na(qrep))\n",
    "gave  %>% ggplot(aes(x=ts,y=tr,color=qrep,fill=qrep)) + \n",
    "\tgeom_line(aes(x=ts,y=ts,group=1), color='black',linetype='dashed') + \n",
    "\tgeom_line(linewidth=1) + \n",
    "\tgeom_point(shape=21, color='white',size=2.5) + theme_bw(base_size=15)\n",
    "\n"
   ]
  },
  {
   "cell_type": "markdown",
   "id": "0b76f6a9",
   "metadata": {},
   "source": [
    "# Item repetitions\n",
    "\n",
    "One of the research questions we had at the start of this project was whether reproductions are not only affected by recent memories, but also by unique, individual memories that are longer ago and associated with individual, recognizable objects. To this end, the objects presented in odd blocks, were repeated in even blocks. However, the durations of items in odd blocks did not seem to affect their reproductions in even blocks: "
   ]
  },
  {
   "cell_type": "code",
   "execution_count": 33,
   "id": "51217ae4",
   "metadata": {
    "tags": []
   },
   "outputs": [
    {
     "data": {
      "text/plain": [
       "Linear mixed model fit by REML. t-tests use Satterthwaite's method [\n",
       "lmerModLmerTest]\n",
       "Formula: tr ~ ts * prior + ts_stim + (1 | sub_id)\n",
       "   Data: dd\n",
       "\n",
       "REML criterion at convergence: -4043.9\n",
       "\n",
       "Scaled residuals: \n",
       "    Min      1Q  Median      3Q     Max \n",
       "-3.9324 -0.6218 -0.0207  0.6111  4.9087 \n",
       "\n",
       "Random effects:\n",
       " Groups   Name        Variance Std.Dev.\n",
       " sub_id   (Intercept) 0.02093  0.1447  \n",
       " Residual             0.03788  0.1946  \n",
       "Number of obs: 9811, groups:  sub_id, 35\n",
       "\n",
       "Fixed effects:\n",
       "              Estimate Std. Error         df t value Pr(>|t|)    \n",
       "(Intercept)  3.327e-01  3.444e-02  1.316e+02   9.660  < 2e-16 ***\n",
       "ts           6.939e-01  3.784e-02  9.769e+03  18.337  < 2e-16 ***\n",
       "priorp2      1.214e-01  4.077e-02  9.769e+03   2.978 0.002906 ** \n",
       "priorp3      1.248e-01  4.549e-02  9.769e+03   2.743 0.006099 ** \n",
       "priorp4      8.949e-02  2.714e-02  9.769e+03   3.297 0.000981 ***\n",
       "ts_stim      6.477e-03  8.907e-03  9.768e+03   0.727 0.467133    \n",
       "ts:priorp2  -1.969e-01  5.304e-02  9.769e+03  -3.711 0.000207 ***\n",
       "ts:priorp3  -2.100e-01  5.306e-02  9.769e+03  -3.957 7.64e-05 ***\n",
       "ts:priorp4  -1.570e-01  4.144e-02  9.769e+03  -3.789 0.000152 ***\n",
       "---\n",
       "Signif. codes:  0 '***' 0.001 '**' 0.01 '*' 0.05 '.' 0.1 ' ' 1\n",
       "\n",
       "Correlation of Fixed Effects:\n",
       "           (Intr) ts     prirp2 prirp3 prirp4 ts_stm ts:pr2 ts:pr3\n",
       "ts         -0.660                                                 \n",
       "priorp2    -0.378  0.556                                          \n",
       "priorp3    -0.339  0.498  0.286                                   \n",
       "priorp4    -0.566  0.834  0.478  0.428                            \n",
       "ts_stim    -0.225  0.011  0.006  0.006  0.005                     \n",
       "ts:priorp2  0.471 -0.714 -0.971 -0.356 -0.596 -0.008              \n",
       "ts:priorp3  0.471 -0.714 -0.397 -0.957 -0.595 -0.009  0.510       \n",
       "ts:priorp4  0.602 -0.913 -0.508 -0.455 -0.970 -0.008  0.653  0.652"
      ]
     },
     "metadata": {},
     "output_type": "display_data"
    },
    {
     "data": {
      "text/html": [
       "<table class=\"dataframe\">\n",
       "<caption>A anova: 4 × 6</caption>\n",
       "<thead>\n",
       "\t<tr><th></th><th scope=col>Sum Sq</th><th scope=col>Mean Sq</th><th scope=col>NumDF</th><th scope=col>DenDF</th><th scope=col>F value</th><th scope=col>Pr(&gt;F)</th></tr>\n",
       "\t<tr><th></th><th scope=col>&lt;dbl&gt;</th><th scope=col>&lt;dbl&gt;</th><th scope=col>&lt;int&gt;</th><th scope=col>&lt;dbl&gt;</th><th scope=col>&lt;dbl&gt;</th><th scope=col>&lt;dbl&gt;</th></tr>\n",
       "</thead>\n",
       "<tbody>\n",
       "\t<tr><th scope=row>ts</th><td>41.4242703</td><td>41.4242703</td><td>1</td><td>9768.422</td><td>1093.4960262</td><td>2.140069e-227</td></tr>\n",
       "\t<tr><th scope=row>prior</th><td> 0.5739161</td><td> 0.1913054</td><td>3</td><td>9768.483</td><td>   5.0499783</td><td> 1.701656e-03</td></tr>\n",
       "\t<tr><th scope=row>ts_stim</th><td> 0.0200319</td><td> 0.0200319</td><td>1</td><td>9768.170</td><td>   0.5287915</td><td> 4.671328e-01</td></tr>\n",
       "\t<tr><th scope=row>ts:prior</th><td> 0.7595709</td><td> 0.2531903</td><td>3</td><td>9768.488</td><td>   6.6835842</td><td> 1.672317e-04</td></tr>\n",
       "</tbody>\n",
       "</table>\n"
      ],
      "text/latex": [
       "A anova: 4 × 6\n",
       "\\begin{tabular}{r|llllll}\n",
       "  & Sum Sq & Mean Sq & NumDF & DenDF & F value & Pr(>F)\\\\\n",
       "  & <dbl> & <dbl> & <int> & <dbl> & <dbl> & <dbl>\\\\\n",
       "\\hline\n",
       "\tts & 41.4242703 & 41.4242703 & 1 & 9768.422 & 1093.4960262 & 2.140069e-227\\\\\n",
       "\tprior &  0.5739161 &  0.1913054 & 3 & 9768.483 &    5.0499783 &  1.701656e-03\\\\\n",
       "\tts\\_stim &  0.0200319 &  0.0200319 & 1 & 9768.170 &    0.5287915 &  4.671328e-01\\\\\n",
       "\tts:prior &  0.7595709 &  0.2531903 & 3 & 9768.488 &    6.6835842 &  1.672317e-04\\\\\n",
       "\\end{tabular}\n"
      ],
      "text/markdown": [
       "\n",
       "A anova: 4 × 6\n",
       "\n",
       "| <!--/--> | Sum Sq &lt;dbl&gt; | Mean Sq &lt;dbl&gt; | NumDF &lt;int&gt; | DenDF &lt;dbl&gt; | F value &lt;dbl&gt; | Pr(&gt;F) &lt;dbl&gt; |\n",
       "|---|---|---|---|---|---|---|\n",
       "| ts | 41.4242703 | 41.4242703 | 1 | 9768.422 | 1093.4960262 | 2.140069e-227 |\n",
       "| prior |  0.5739161 |  0.1913054 | 3 | 9768.483 |    5.0499783 |  1.701656e-03 |\n",
       "| ts_stim |  0.0200319 |  0.0200319 | 1 | 9768.170 |    0.5287915 |  4.671328e-01 |\n",
       "| ts:prior |  0.7595709 |  0.2531903 | 3 | 9768.488 |    6.6835842 |  1.672317e-04 |\n",
       "\n"
      ],
      "text/plain": [
       "         Sum Sq     Mean Sq    NumDF DenDF    F value      Pr(>F)       \n",
       "ts       41.4242703 41.4242703 1     9768.422 1093.4960262 2.140069e-227\n",
       "prior     0.5739161  0.1913054 3     9768.483    5.0499783  1.701656e-03\n",
       "ts_stim   0.0200319  0.0200319 1     9768.170    0.5287915  4.671328e-01\n",
       "ts:prior  0.7595709  0.2531903 3     9768.488    6.6835842  1.672317e-04"
      ]
     },
     "metadata": {},
     "output_type": "display_data"
    }
   ],
   "source": [
    "#### Look only at even blocks: do associated stim durations (ts_stim) affect tr?\n",
    "dd <- all_dat  %>% filter(outlier==FALSE,Block_nr %in% seq(2,12,2))\n",
    "m_mem <- lmer(tr~ts*prior + ts_stim + (1|sub_id), data=dd)\n",
    "summary(m_mem)\n",
    "anova(m_mem)\n"
   ]
  },
  {
   "cell_type": "markdown",
   "id": "2a6c6e98",
   "metadata": {},
   "source": [
    "These results suggest that ts_stim does not have a strong effect on reproductions (although the coefficient is pointing in the right direction). This suggests that memories of durations are either not associated with stimulus identity, or that these memories are simply not contributing much to duration reproductions (for example, they might be too distant to be retrieved).\n",
    "\n",
    "Although we don't have data on this, you may choose to solve an additional problem here with your model: namely, how can it be that these memories don't have a (strong) effect on reproductions, while at the same time you, as a participant, were presumably aware that these stimuli had been presented before. So, somehow you had a memory for these stimuli, but it didn't affect your reproductions."
   ]
  }
 ],
 "metadata": {
  "kernelspec": {
   "display_name": "R",
   "language": "R",
   "name": "ir"
  },
  "language_info": {
   "codemirror_mode": "r",
   "file_extension": ".r",
   "mimetype": "text/x-r-source",
   "name": "R",
   "pygments_lexer": "r",
   "version": "4.3.1"
  }
 },
 "nbformat": 4,
 "nbformat_minor": 5
}
